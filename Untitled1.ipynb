{
  "nbformat": 4,
  "nbformat_minor": 0,
  "metadata": {
    "colab": {
      "provenance": [],
      "toc_visible": true,
      "authorship_tag": "ABX9TyOD7xJnwwbIMsFi4iHmX/g+",
      "include_colab_link": true
    },
    "kernelspec": {
      "name": "python3",
      "display_name": "Python 3"
    },
    "language_info": {
      "name": "python"
    }
  },
  "cells": [
    {
      "cell_type": "markdown",
      "metadata": {
        "id": "view-in-github",
        "colab_type": "text"
      },
      "source": [
        "<a href=\"https://colab.research.google.com/github/Sylvia53/tibame122424/blob/main/Untitled1.ipynb\" target=\"_parent\"><img src=\"https://colab.research.google.com/assets/colab-badge.svg\" alt=\"Open In Colab\"/></a>"
      ]
    },
    {
      "cell_type": "markdown",
      "source": [
        "# BMI = Weight / Height(m) ^ 2\n",
        "\n",
        "Weight = 55\n",
        "Height = 170\n",
        "BMI = Weight / ( Height / 100 ) ** 2\n",
        "\n",
        "print(Weighet)\n",
        "print(Height)\n",
        "print(BMI)"
      ],
      "metadata": {
        "id": "kwQfw24hyG5t"
      }
    },
    {
      "cell_type": "code",
      "source": [
        "# BMI = Weight / Height(m) ^ 2\n",
        "\n",
        "Weight = 88\n",
        "Height = 185\n",
        "BMI = Weight / ( Height / 100 ) ** 2\n",
        "\n",
        "print(\"你的體重是: \" + str( Weight ))\n",
        "print(\"你的身高是: \" + str( Height ))\n",
        "print(\"你的BMI是: \" + str( BMI ))"
      ],
      "metadata": {
        "colab": {
          "base_uri": "https://localhost:8080/"
        },
        "id": "esN-b4yA1wNj",
        "outputId": "b1a2ceeb-fa0c-4684-b47c-62f7f85064cd"
      },
      "execution_count": 1,
      "outputs": [
        {
          "output_type": "stream",
          "name": "stdout",
          "text": [
            "你的體重是: 88\n",
            "你的身高是: 185\n",
            "你的BMI是: 25.712198685171657\n"
          ]
        }
      ]
    },
    {
      "cell_type": "code",
      "execution_count": null,
      "metadata": {
        "id": "Hfj9-QiDuozU"
      },
      "outputs": [],
      "source": []
    },
    {
      "cell_type": "code",
      "source": [],
      "metadata": {
        "id": "gCMr-ooayGp8"
      },
      "execution_count": null,
      "outputs": []
    }
  ]
}