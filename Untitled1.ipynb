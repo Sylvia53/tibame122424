{
  "nbformat": 4,
  "nbformat_minor": 0,
  "metadata": {
    "colab": {
      "provenance": [],
      "toc_visible": true,
      "authorship_tag": "ABX9TyOrxAMEqPfUiWUOJ1fB51Cf",
      "include_colab_link": true
    },
    "kernelspec": {
      "name": "python3",
      "display_name": "Python 3"
    },
    "language_info": {
      "name": "python"
    }
  },
  "cells": [
    {
      "cell_type": "markdown",
      "metadata": {
        "id": "view-in-github",
        "colab_type": "text"
      },
      "source": [
        "<a href=\"https://colab.research.google.com/github/Sylvia53/tibame122424/blob/main/Untitled1.ipynb\" target=\"_parent\"><img src=\"https://colab.research.google.com/assets/colab-badge.svg\" alt=\"Open In Colab\"/></a>"
      ]
    },
    {
      "cell_type": "markdown",
      "source": [
        "1. 環境設置\n",
        "   a. 本地環境:\n",
        "        a.1. 翻譯器: python 3.x\n",
        "        a.2. 輔助工具: Pycharm/VSCode\n",
        "Anaconda(X): 大集合\n",
        "   b. 線上環境:\n",
        "        b.1. repl.it\n",
        "        b.2. colab\n",
        "\n",
        "2. 一個完整的python程式就是.py檔案\n",
        "   從第一行執行到最後一行\n",
        "\n",
        "   colab她不能說是一個完整的python檔案\n",
        "   她是一個練習簿的感覺 你可以執行幾行\n",
        "   看一下結果 再執行幾行 以.ipynb結尾\n",
        "   (使用的是python套件 jupyter notebook)\n",
        "第一個程式: bmi程式\n",
        "1. 可以讓使用者自由輸入她的身高體重\n",
        "2. 幫他計算bmi\n",
        "3. 給他點bmi建議\n",
        "\n",
        "\n",
        "1. 註解: 影響\"可讀性\"的一個重要要素\n",
        "  # xxxxx\n",
        "\n",
        "2. 功能: 參數 print(參數)\n",
        "  !!! 就算沒有參數, 也要有小括號 xxx()\n",
        "\n",
        "3. 排版也是影響\"可讀性\"很重要的要素\n",
        "  !!! \\控一格...\n",
        "  !!! 可以參考 pep coding style\n",
        "\n",
        "4. 不要重複寫: =\n",
        "  a. 5 == 3 + 2(左右是否相等?)\n",
        "  b. x = 3(取替)\n",
        "\n",
        "5. 型態(Type):\n",
        "  a. 數字型態: 包含整數(int) 小數(float)\n",
        "  b. 字串型態(str): \"xxx\"\n",
        "  !!! 任何符號都只是一個字\n",
        "  !!! 電話: 字串\n",
        "\n",
        "6. python對於型態是非常嚴格的一種語言\n",
        "  !!! 絕對不會\"偷偷\"幫你做任何型態轉換\n",
        "  !!! 數字+數字 ok 字串+字串 ok 字串+數字(X)\n",
        "  !!! \"ab\" + \"cd\" -> \"abcd\"\n",
        "\n",
        "7. 型態轉換功能: int() float() str()\n",
        "\n",
        "8. 如果...否則(IF-ELSE)\n",
        "\n",
        "if bmi > 25:\n",
        "    print\n",
        "    print\n",
        "    print\n",
        "else:\n",
        "    print\n",
        "\n",
        "縮排排版(冒號/TAB案件)\n",
        "Elwing:\n",
        "    xxxxxx\n",
        "    xxxxx\n",
        "\n",
        "9. 讓使用者輸入的功能\n",
        "input(字串)\n",
        "\n",
        "!!! 剛剛你學會了參數, 你要多學會另外一件事: 回傳值\n",
        "!!! 回傳值: 做完這個功能所丟回來的\"新的\"答案(check type)\n",
        "!!! 方便記憶: 你只要沒有做=設置, 值就是不會改變的"
      ],
      "metadata": {
        "id": "LZIR3HIKohz-"
      }
    },
    {
      "cell_type": "code",
      "execution_count": 25,
      "metadata": {
        "colab": {
          "base_uri": "https://localhost:8080/"
        },
        "id": "Hfj9-QiDuozU",
        "outputId": "af8d7404-426d-4dfd-86ab-97f8821735ad"
      },
      "outputs": [
        {
          "output_type": "stream",
          "name": "stdout",
          "text": [
            "0.剪刀 1.石頭 2.布1\n",
            "我出的是: 石頭\n",
            "電腦出的是: 剪刀\n",
            "WIN\n"
          ]
        }
      ],
      "source": [
        "#剪刀石頭布\n",
        "import random\n",
        "\n",
        "my = int(input(\"0.剪刀 1.石頭 2.布\"))\n",
        "com = random.randint(0 , 2)\n",
        "trans = [\"剪刀\" , \"石頭\" , \"布\"]\n",
        "\n",
        "print(\"我出的是:\", trans[my])\n",
        "print(\"電腦出的是:\", trans[com])\n",
        "\n",
        "# >, >=, <, <=, ==\n",
        "if my ==(com + 1) % 3:\n",
        "  print(\"WIN\")\n",
        "\n",
        "elif com ==(my + 1) % 3:\n",
        "  print(\"LOSE\")\n",
        "\n",
        "else:\n",
        "  print(\"EVEN\")\n"
      ]
    },
    {
      "cell_type": "markdown",
      "source": [
        "剪刀石頭布\n",
        "1. 程式前: 想永遠比寫來的重要\n",
        "\n",
        "2. 先想核心 3 x 3(bad) 下一個贏上一個\n",
        "\n",
        "3. 想想細節: 該用什麼表示\n",
        "只要有大小(隱含)關係: 整數(從0開始)\n",
        "你要讓別人輸入: 整數\n",
        "\n",
        "4. 當你使用別隻.py的時候 你都要先引用(import)\n",
        "import .py名\n",
        "(把import後面照抄)....\n",
        "!!! 不管python內建的/第三方/你自己寫的, 你都要先import\n",
        "!!! 除了最內建的 https://docs.python.org/3/library/functions.html 都要import\n",
        "\n",
        "5. .是中文的\"的\"\n",
        "\n",
        "6. 清單型態(list)\n",
        "trans = [\"剪刀\", \"十頭\", \"布\"]\n",
        "清單在創的時候, python就會預設給她編號(0, 1, 2...)\n",
        "\n",
        "key(編號)-value: 拿key去查value\n",
        "查東西[key]\n",
        "\n",
        "7. 如果...否則如果...否則\n",
        "(單選題: 篩選效果, 嚴格要放上面)\n",
        "if bmi > 25:\n",
        "    print\n",
        "elif bmi > 18:\n",
        "    print\n",
        "else:\n",
        "    print\n",
        "\n",
        "!!! else是可以不寫的: 剩下不做事\n",
        "!!! else是剩下的, 很強, 最難的放在else\n",
        "\n",
        "8. 程式中: 記得邊念中文\n",
        "數學概念\n",
        "1. 剪刀石頭布: 我們很明顯有個循環的概念存在\n",
        "0->1->2->0(3)\n",
        "\n",
        "2. 本來想-3, 但是是超過的時候才-3\n",
        "7 / 3 = 2...1\n",
        "\n",
        "a. 取商: 7 // 3 -> 2\n",
        "b. 取餘(mod): 7 % 3 -> 1 (循環運算)\n",
        "\n",
        "0 % 3 = 0\n",
        "1 % 3 = 1\n",
        "2 % 3 = 2\n",
        "3 % 3 = 0\n",
        "4 % 3 = 1\n",
        "5 % 3 = 2\n",
        "6 % 3 = 0\n",
        "\n",
        "!!! 0-4: %5 0-9: %10 0-x:%(x+1)\n",
        "!!! 什麼時候要取: 有可能超過"
      ],
      "metadata": {
        "id": "q8AyBolHow9s"
      }
    },
    {
      "cell_type": "markdown",
      "source": [
        "\n",
        "```\n",
        "\n"
      ],
      "metadata": {
        "id": "kwQfw24hyG5t"
      }
    },
    {
      "cell_type": "code",
      "source": [
        "# BMI = Weight / Height(m) ^ 2\n",
        "\n",
        "Weight = float(input(\"請輸入你的體重:\"))\n",
        "Height = float(input(\"請輸入你的身高:\"))\n",
        "BMI = (Weight) / ((Height) / 100) ** 2\n",
        "\n",
        "print(\"你的體重是: \" + str(Weight))\n",
        "print(\"你的身高是: \" + str(Height))\n",
        "print(\"你的BMI是: \" + str(BMI))\n",
        "\n",
        "if BMI<18.5:\n",
        "  print(\"體重過輕\")\n",
        "\n",
        "elif BMI>24:\n",
        "  print(\"體重過重\")\n",
        "  print(\"請少吃多動\")\n",
        "\n",
        "else:\n",
        "  print(\"體重正常\")\n"
      ],
      "metadata": {
        "colab": {
          "base_uri": "https://localhost:8080/"
        },
        "id": "esN-b4yA1wNj",
        "outputId": "ff788bfe-0cff-4d34-87ff-9a26bca11e4f"
      },
      "execution_count": 29,
      "outputs": [
        {
          "output_type": "stream",
          "name": "stdout",
          "text": [
            "請輸入你的體重:48\n",
            "請輸入你的身高:170\n",
            "你的體重是: 48.0\n",
            "你的身高是: 170.0\n",
            "你的BMI是: 16.60899653979239\n",
            "體重過輕\n"
          ]
        }
      ]
    },
    {
      "cell_type": "markdown",
      "source": [
        "請輸入體重:80.2\n",
        "請輸入身高:175.3\n",
        "你的體重是:80.2\n",
        "你的身高是:175.3\n",
        "bmi是:26.098198866322875\n",
        "過重\n",
        "少吃多動\n",
        "人類使用的數數方式叫做十進位\n",
        "0 1 2 3 4 ... 9 10 11\n",
        "\n",
        "八進位\n",
        "0 1 2 3 4 7 10 11 17 20 77 100\n",
        "\n",
        "電腦是二進位\n",
        "0 1 10 11 100 101 110 111 1000\n",
        "\n",
        "有限小數 -> 二進位還是有限小數(?)\n",
        "\n",
        "1/3 -> 0.333333(十進位無限) -> 0.1(三進位有限)\n",
        "\n",
        "所以你再說兩個小數的相等的時候不是說他們一模一樣, 而是他們的誤差小於多少你就認為這兩個小數相等"
      ],
      "metadata": {
        "id": "aPAbwHdqo8Fx"
      }
    },
    {
      "cell_type": "code",
      "source": [],
      "metadata": {
        "id": "gCMr-ooayGp8"
      },
      "execution_count": null,
      "outputs": []
    }
  ]
}