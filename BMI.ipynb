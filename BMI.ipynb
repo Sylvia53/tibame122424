{
  "nbformat": 4,
  "nbformat_minor": 0,
  "metadata": {
    "colab": {
      "provenance": [],
      "toc_visible": true,
      "authorship_tag": "ABX9TyNcML+PpayzrZGKwWlRRe1K",
      "include_colab_link": true
    },
    "kernelspec": {

      "display_name": "Python 3"
    },
    "language_info": {
      "name": "python"
    }
  },
  "cells": [
    {
      "cell_type": "markdown",
      "metadata": {
        "id": "view-in-github",
        "colab_type": "text"
      },
      "source": [
        "<a href=\"https://colab.research.google.com/github/Sylvia53/tibame122424/blob/main/1224.ipynb\" target=\"_parent\"><img src=\"https://colab.research.google.com/assets/colab-badge.svg\" alt=\"Open In Colab\"/></a>"
      ]
    },
    {
      "cell_type": "markdown",
      "source": [
        "# BMI = Weight / Height(m) ^ 2\n",
        "\n",
        "Weight = 55\n",
        "Height = 170\n",
        "BMI = Weight / ( Height / 100 ) ** 2\n",
        "\n",
        "print(Weighet)\n",
        "print(Height)\n",
        "print(BMI)"
      ],
      "metadata": {
        "id": "kwQfw24hyG5t"
      }
    },
    {
      "cell_type": "code",
      "source": [
        "# BMI = Weight / Height(m) ^ 2\n",
        "\n",
        "Weight = 88\n",
        "Height = 185\n",
        "BMI = Weight / ( Height / 100 ) ** 2\n",
        "\n",
        "print(Weight)\n",
        "print(Height)\n",
        "print(BMI)"
      ],
      "metadata": {
        "colab": {
          "base_uri": "https://localhost:8080/"
        },
        "id": "esN-b4yA1wNj",
        "outputId": "ac1c0c34-b20c-484f-c100-1c0a97afe918"
      },
      "execution_count": 4,
      "outputs": [
        {
          "output_type": "stream",
          "name": "stdout",
          "text": [
            "88\n",
            "185\n",
            "25.712198685171657\n"
          ]
        }
      ]
    },
    {
      "cell_type": "code",
      "execution_count": null,
      "metadata": {
        "id": "Hfj9-QiDuozU"
      },
      "outputs": [],
      "source": []
    },
    {
      "cell_type": "code",
      "source": [],
      "metadata": {
        "id": "gCMr-ooayGp8"
      },
      "execution_count": null,
      "outputs": []
    }
  ]
}
